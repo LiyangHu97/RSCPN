{
 "cells": [
  {
   "cell_type": "markdown",
   "id": "ca53e902",
   "metadata": {},
   "source": [
    "# SCPN\n",
    "\n",
    "This notebook gives a toy example to show how to solve the missing traffic data imputation problem using a low-rank tensor completion approach based on the tensor Schatten capped p norm (SCPN), a flexible and non-convex rank surrogate. \n",
    "\n",
    "Note that the parameters used in this example may not necessarily optimal. For an in-depth discussion of SCPN, please refer to our paper."
   ]
  },
  {
   "cell_type": "markdown",
   "id": "9afc9d71",
   "metadata": {},
   "source": [
    "## Preparations"
   ]
  },
  {
   "cell_type": "code",
   "execution_count": 1,
   "id": "3749e6bb",
   "metadata": {},
   "outputs": [],
   "source": [
    "import numpy as np\n",
    "\n",
    "def ten2mat(tensor, mode):\n",
    "    return np.reshape(np.moveaxis(tensor, mode, 0), (tensor.shape[mode], -1), order = 'F')\n",
    "\n",
    "def mat2ten(mat, tensor_size, mode):\n",
    "    index = list()\n",
    "    index.append(mode)\n",
    "    for i in range(tensor_size.shape[0]):\n",
    "        if i != mode:\n",
    "            index.append(i)\n",
    "    return np.moveaxis(np.reshape(mat, list(tensor_size[index]), order = 'F'), 0, mode)\n",
    "\n",
    "def compute_mape(var, var_hat):\n",
    "    return np.sum(np.abs(var - var_hat) / var) / var.shape[0]\n",
    "\n",
    "def compute_rmse(var, var_hat):\n",
    "    return  np.sqrt(np.sum((var - var_hat) ** 2) / var.shape[0])\n",
    "\n",
    "def compute_mae(var, var_hat):\n",
    "    return np.sum(np.abs(var-var_hat)) / var.shape[0]\n",
    "\n",
    "\n",
    "def Gradient_Descent(lamda, p, sigma, Iter=10):\n",
    "    '''\n",
    "    Parameters:\n",
    "        lamda: 1/rho\n",
    "        p: hyper-parameter p\n",
    "        sigma: the i-th singular value of matrix G\n",
    "        Iter: the number of iterations in solving x*\n",
    "    Output:\n",
    "        x*: float type\n",
    "    '''\n",
    "    x_k = sigma\n",
    "    for k in range(Iter):\n",
    "        x_k1 = sigma - lamda * p * (x_k) ** (p - 1)\n",
    "        x_k = x_k1\n",
    "\n",
    "    return x_k\n",
    "\n",
    "def opt_x(G, lamda, p, tau):\n",
    "    '''\n",
    "    Parameters:\n",
    "        G: 2-d matrix\n",
    "        lamda: 1/rho\n",
    "        p: hyper-parameter p\n",
    "        tau: hyper-parameter tau (compared with singular value)\n",
    "    Output:\n",
    "        W: transformed G (with singular matrix changed)\n",
    "    '''\n",
    "\n",
    "    [Q, sigma, R] = np.linalg.svd(G, full_matrices=0)\n",
    "    delta = np.zeros(sigma.shape)  # singular vector\n",
    "\n",
    "    v = (2 * lamda * (1 - p)) ** (1 / (2 - p))\n",
    "    v1 = v + lamda * p * (v ** (p - 1))\n",
    "\n",
    "    for i in range(len(sigma)):\n",
    "        s = sigma[i]\n",
    "        if s >= v1:\n",
    "            x_ = Gradient_Descent(lamda, p, s)\n",
    "        else:\n",
    "            x_ = 0\n",
    "\n",
    "        tau_ = ((1 / (2 * lamda)) * ((x_ - s) ** 2) + x_ ** p) ** (1 / p)\n",
    "        if tau <= tau_:\n",
    "            delta[i] = s\n",
    "        else:\n",
    "            delta[i] = x_\n",
    "\n",
    "    return np.matmul(np.matmul(Q, np.diag(delta)), R)"
   ]
  },
  {
   "cell_type": "markdown",
   "id": "75fbbbea",
   "metadata": {},
   "source": [
    "## Main function"
   ]
  },
  {
   "cell_type": "code",
   "execution_count": 2,
   "id": "5e72830f",
   "metadata": {},
   "outputs": [],
   "source": [
    "def SCPN(dense_tensor, sparse_tensor, alpha, rho, p, tau, epsilon, maxiter=100):\n",
    "    '''\n",
    "    Parameters:\n",
    "        dense_tensor: the original tensor (without mask) ∈ (M * I * J)\n",
    "        sparse_tensor: the observed tensor (with mask) ∈ (M * I * J)\n",
    "        alpha: the weight for each tensor mode, e.g., [0.3, 0.3, 0.3]\n",
    "        rho: penalty parameter\n",
    "        p: hyper-parameter p\n",
    "        tau: hypter-parameter tau\n",
    "        epsilon: the threshold for residual\n",
    "        maxiter: the maximum iterations, default = 100\n",
    "    Output:\n",
    "        return a recovered tensor, the same size with dense_tensor\n",
    "    '''\n",
    "\n",
    "    dim = np.array(sparse_tensor.shape)  # dim = [M, I, J]\n",
    "\n",
    "    sparse_matrix = ten2mat(sparse_tensor, 0)  # (M * IJ)\n",
    "    pos_missing = np.where(sparse_matrix == 0)  # all missing values, including original missing and mask missing, = (M * IJ)\n",
    "    pos_test = np.where((dense_tensor != 0) & (sparse_tensor == 0))  # only include mask missing, = (M * I * J)\n",
    "\n",
    "    # min-max normalize\n",
    "    min_value = ten2mat(dense_tensor, 0).min(axis=1)\n",
    "    max_value = ten2mat(dense_tensor, 0).max(axis=1)\n",
    "    sparse_matrix = (sparse_matrix - min_value[:, np.newaxis]) / (max_value[:, np.newaxis] - min_value[:, np.newaxis])\n",
    "    sparse_matrix[pos_missing] = 0\n",
    "\n",
    "    # initialization\n",
    "    X = np.zeros(np.insert(dim, 0, len(dim)))  # 4-D tensor\n",
    "    T = np.zeros(np.insert(dim, 0, len(dim)))  # 4-D tenosr\n",
    "    Z = sparse_matrix.copy()  # (M * IJ)\n",
    "    last_tensor = sparse_tensor.copy()\n",
    "    it = 0\n",
    "\n",
    "    # update iteratively\n",
    "    while True:\n",
    "        rho = min(rho * 1.4, 1e5)\n",
    "\n",
    "        # update X 4-D tensor\n",
    "        for k in range(len(dim)):\n",
    "            X[k] = mat2ten(\n",
    "                opt_x(ten2mat(mat2ten(Z, dim, 0) - T[k] / rho, k), 1 / rho, p, tau[k]),\n",
    "                dim,\n",
    "                k)\n",
    "\n",
    "        # update Z matrix (M, IJ)\n",
    "        Z[pos_missing] = ten2mat(np.mean(X + T / rho, axis=0), 0)[pos_missing]\n",
    "\n",
    "        # update T 4-D tensor\n",
    "        T = T + rho * (X - np.broadcast_to(mat2ten(Z, dim, 0), np.insert(dim, 0, len(dim))))\n",
    "\n",
    "        # predict\n",
    "        tensor_hat = np.einsum('k, kmnt -> mnt', alpha, X)  # weighted average\n",
    "\n",
    "        # denormalize\n",
    "        tensor_hat = mat2ten(ten2mat(tensor_hat, 0) * (max_value[:, np.newaxis] - min_value[:, np.newaxis]) + min_value[:, np.newaxis],dim, 0)\n",
    "\n",
    "        # check tolerance\n",
    "        tol = np.sqrt(np.sum((tensor_hat - last_tensor) ** 2)) / np.sqrt(np.sum(last_tensor ** 2))\n",
    "        last_tensor = tensor_hat.copy()\n",
    "        it += 1\n",
    "\n",
    "        # terminate\n",
    "        if (tol < epsilon) or (it >= maxiter):\n",
    "            break\n",
    "\n",
    "    # accuracy\n",
    "    print('Total iteration: {}'.format(it + 1))\n",
    "    print('Imputation MAPE: {:.6}'.format(compute_mape(dense_tensor[pos_test], tensor_hat[pos_test])))\n",
    "    print('Imputation RMSE: {:.6}'.format(compute_rmse(dense_tensor[pos_test], tensor_hat[pos_test])))\n",
    "    print('Imputation MAE: {:.6}'.format(compute_mae(dense_tensor[pos_test], tensor_hat[pos_test])))\n",
    "    print()\n",
    "\n",
    "    return tensor_hat"
   ]
  },
  {
   "cell_type": "markdown",
   "id": "9f19bdd3",
   "metadata": {},
   "source": [
    "## A toy example on PEMS speed dataset\n",
    "### load data"
   ]
  },
  {
   "cell_type": "code",
   "execution_count": 3,
   "id": "41069108",
   "metadata": {},
   "outputs": [
    {
     "name": "stdout",
     "output_type": "stream",
     "text": [
      "(228, 44, 288)\n"
     ]
    }
   ],
   "source": [
    "data = np.load('dataset/PEMS/pems.npy')\n",
    "\n",
    "dense_tensor = data.reshape(-1,44,288)\n",
    "print(dense_tensor.shape)\n",
    "dim = dense_tensor.shape\n",
    "np.random.seed(1)"
   ]
  },
  {
   "cell_type": "markdown",
   "id": "fbc2ee5c",
   "metadata": {},
   "source": [
    "### Random missing scenarios"
   ]
  },
  {
   "cell_type": "code",
   "execution_count": 5,
   "id": "e741e511",
   "metadata": {
    "scrolled": false
   },
   "outputs": [
    {
     "name": "stdout",
     "output_type": "stream",
     "text": [
      "Random missing\n",
      "Random missing rate = 0.2\n",
      "Total iteration: 24\n",
      "Imputation MAPE: 0.0232983\n",
      "Imputation RMSE: 1.70984\n",
      "Imputation MAE: 1.08583\n",
      "\n",
      "Random missing rate = 0.4\n",
      "Total iteration: 38\n",
      "Imputation MAPE: 0.0276519\n",
      "Imputation RMSE: 2.03577\n",
      "Imputation MAE: 1.27003\n",
      "\n",
      "Random missing rate = 0.6\n",
      "Total iteration: 38\n",
      "Imputation MAPE: 0.0364047\n",
      "Imputation RMSE: 2.63004\n",
      "Imputation MAE: 1.63696\n",
      "\n",
      "Random missing rate = 0.8\n",
      "Total iteration: 31\n",
      "Imputation MAPE: 0.0550508\n",
      "Imputation RMSE: 3.82933\n",
      "Imputation MAE: 2.3944\n",
      "\n"
     ]
    }
   ],
   "source": [
    "print('Random missing')\n",
    "for missing_rate in [0.2, 0.4, 0.6, 0.8]:\n",
    "    sparse_tensor = dense_tensor * np.round(np.random.rand(dim[0], dim[1], dim[2]) + 0.5 - missing_rate)\n",
    "    alpha = np.ones(3) / 3\n",
    "    if missing_rate in [0.4, 0.6]:\n",
    "        p = 0.5\n",
    "        lamda = 1e5\n",
    "        tau = [10, 10, 10]\n",
    "    elif missing_rate == 0.2:\n",
    "        p = 0.3\n",
    "        lamda = 1e3\n",
    "        tau = [10, 10, 10]        \n",
    "    else:\n",
    "        p = 0.5\n",
    "        lamda = 1e4\n",
    "        tau = [10, 10, 10]\n",
    "    rho = 1/lamda\n",
    "    epsilon = 1e-3\n",
    "    maxiter = 100\n",
    "    print('Random missing rate = %.1f' % missing_rate)\n",
    "    tensor_hat = SCPN(dense_tensor, sparse_tensor, alpha, rho, p, tau, epsilon, maxiter)"
   ]
  },
  {
   "cell_type": "markdown",
   "id": "a4e0aeff",
   "metadata": {},
   "source": [
    "### Nonrandom missing scenarios"
   ]
  },
  {
   "cell_type": "code",
   "execution_count": 6,
   "id": "8bf57985",
   "metadata": {},
   "outputs": [
    {
     "name": "stdout",
     "output_type": "stream",
     "text": [
      "Nonrandom missing\n",
      "Random missing rate = 0.2\n",
      "Total iteration: 38\n",
      "Imputation MAPE: 0.0687134\n",
      "Imputation RMSE: 4.93988\n",
      "Imputation MAE: 2.96221\n",
      "\n",
      "Random missing rate = 0.4\n",
      "Total iteration: 38\n",
      "Imputation MAPE: 0.0743568\n",
      "Imputation RMSE: 5.25669\n",
      "Imputation MAE: 3.16912\n",
      "\n",
      "Random missing rate = 0.6\n",
      "Total iteration: 39\n",
      "Imputation MAPE: 0.0879885\n",
      "Imputation RMSE: 5.96118\n",
      "Imputation MAE: 3.66279\n",
      "\n",
      "Random missing rate = 0.8\n",
      "Total iteration: 33\n",
      "Imputation MAPE: 0.107021\n",
      "Imputation RMSE: 6.95984\n",
      "Imputation MAE: 4.33058\n",
      "\n"
     ]
    }
   ],
   "source": [
    "print('Nonrandom missing')\n",
    "for missing_rate in [0.2, 0.4, 0.6, 0.8]:\n",
    "    sparse_tensor = dense_tensor * np.round(np.random.rand(dim[0], dim[1]) + 0.5 - missing_rate)[:,:,None]\n",
    "    alpha = np.ones(3) / 3\n",
    "    if missing_rate in [0.4, 0.6]:\n",
    "        p = 0.3\n",
    "        lamda = 1e5\n",
    "        tau = [20, 20, 20]\n",
    "    elif missing_rate == 0.8:\n",
    "        p = 0.5\n",
    "        lamda = 1e4\n",
    "        tau = [100, 100, 100]\n",
    "    else:\n",
    "        p = 0.1\n",
    "        lamda = 1e5\n",
    "        tau = [20, 20, 20]\n",
    "    rho = 1/lamda\n",
    "    epsilon = 1e-3\n",
    "    maxiter = 100\n",
    "    print('Random missing rate = %.1f' % missing_rate)\n",
    "    tensor_hat = SCPN(dense_tensor, sparse_tensor, alpha, rho, p, tau, epsilon, maxiter)"
   ]
  },
  {
   "cell_type": "markdown",
   "id": "5a670c06",
   "metadata": {},
   "source": [
    "## License\n",
    "\n",
    "This work is released under the MIT license."
   ]
  }
 ],
 "metadata": {
  "kernelspec": {
   "display_name": "Python 3 (ipykernel)",
   "language": "python",
   "name": "python3"
  },
  "language_info": {
   "codemirror_mode": {
    "name": "ipython",
    "version": 3
   },
   "file_extension": ".py",
   "mimetype": "text/x-python",
   "name": "python",
   "nbconvert_exporter": "python",
   "pygments_lexer": "ipython3",
   "version": "3.9.7"
  },
  "toc": {
   "base_numbering": 1,
   "nav_menu": {},
   "number_sections": false,
   "sideBar": true,
   "skip_h1_title": false,
   "title_cell": "Table of Contents",
   "title_sidebar": "Contents",
   "toc_cell": false,
   "toc_position": {},
   "toc_section_display": true,
   "toc_window_display": true
  },
  "varInspector": {
   "cols": {
    "lenName": 16,
    "lenType": 16,
    "lenVar": 40
   },
   "kernels_config": {
    "python": {
     "delete_cmd_postfix": "",
     "delete_cmd_prefix": "del ",
     "library": "var_list.py",
     "varRefreshCmd": "print(var_dic_list())"
    },
    "r": {
     "delete_cmd_postfix": ") ",
     "delete_cmd_prefix": "rm(",
     "library": "var_list.r",
     "varRefreshCmd": "cat(var_dic_list()) "
    }
   },
   "types_to_exclude": [
    "module",
    "function",
    "builtin_function_or_method",
    "instance",
    "_Feature"
   ],
   "window_display": false
  }
 },
 "nbformat": 4,
 "nbformat_minor": 5
}
